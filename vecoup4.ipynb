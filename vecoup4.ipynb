{
 "cells": [
  {
   "cell_type": "code",
   "execution_count": 18,
   "metadata": {},
   "outputs": [
    {
     "name": "stdout",
     "output_type": "stream",
     "text": [
      "125\n"
     ]
    }
   ],
   "source": [
    "def fun2(i):\n",
    "    return 5 * i\n",
    "\n",
    "x = 2\n",
    "y = 3\n",
    "a = fun2(fun2(x) + fun2(y))\n",
    "print(a)\n"
   ]
  },
  {
   "cell_type": "code",
   "execution_count": 19,
   "metadata": {},
   "outputs": [
    {
     "name": "stdout",
     "output_type": "stream",
     "text": [
      "7\n"
     ]
    }
   ],
   "source": [
    "a = 5\n",
    "def fun3(a):\n",
    "    a += 1\n",
    "\n",
    "a += 2\n",
    "print(a)\n"
   ]
  },
  {
   "cell_type": "code",
   "execution_count": 20,
   "metadata": {},
   "outputs": [
    {
     "name": "stdout",
     "output_type": "stream",
     "text": [
      "18\n"
     ]
    }
   ],
   "source": [
    "def foo(i):\n",
    "    return 2*i*i\n",
    "\n",
    "def goo(x, y):\n",
    "    return x(y)\n",
    "\n",
    "a = goo(foo, 3)\n",
    "print(a)\n"
   ]
  },
  {
   "cell_type": "code",
   "execution_count": 21,
   "metadata": {},
   "outputs": [
    {
     "name": "stdout",
     "output_type": "stream",
     "text": [
      "True\n",
      "True\n"
     ]
    }
   ],
   "source": [
    "def is_number(x):\n",
    "    if isinstance(x, int):\n",
    "        return True\n",
    "    elif isinstance(x, float):\n",
    "        return True\n",
    "    return False\n",
    "\n",
    "print(is_number(5.5))\n",
    "print(is_number(42))\n"
   ]
  },
  {
   "cell_type": "code",
   "execution_count": 22,
   "metadata": {},
   "outputs": [
    {
     "data": {
      "text/plain": [
       "[\"how's\", 'going', 'coding']"
      ]
     },
     "execution_count": 22,
     "metadata": {},
     "output_type": "execute_result"
    }
   ],
   "source": [
    "def average_words(strings):\n",
    "    found = []\n",
    "    for item in strings:\n",
    "        if 4 < len(item) < 8:\n",
    "            found.append(item)\n",
    "    return found\n",
    "\n",
    "average_words([\"sup\", \"how's\", \"it\", \"going\", \"reflecting\", \"on\", \"programs\", \"and\", \"coding\"])"
   ]
  },
  {
   "cell_type": "code",
   "execution_count": 26,
   "metadata": {},
   "outputs": [
    {
     "name": "stdout",
     "output_type": "stream",
     "text": [
      "The smallest item is: -11\n"
     ]
    },
    {
     "data": {
      "text/plain": [
       "-11"
      ]
     },
     "execution_count": 26,
     "metadata": {},
     "output_type": "execute_result"
    }
   ],
   "source": [
    "def find_min(numbers):\n",
    "    counter = 0\n",
    "    for item in numbers:\n",
    "        if item < counter:\n",
    "            counter = item\n",
    "    print(f\"The smallest item is: {counter}\")\n",
    "    return counter\n",
    "\n",
    "find_min([10, 3, -4, -11])"
   ]
  }
 ],
 "metadata": {
  "kernelspec": {
   "display_name": "Python 3",
   "language": "python",
   "name": "python3"
  },
  "language_info": {
   "codemirror_mode": {
    "name": "ipython",
    "version": 3
   },
   "file_extension": ".py",
   "mimetype": "text/x-python",
   "name": "python",
   "nbconvert_exporter": "python",
   "pygments_lexer": "ipython3",
   "version": "3.10.8"
  }
 },
 "nbformat": 4,
 "nbformat_minor": 2
}
